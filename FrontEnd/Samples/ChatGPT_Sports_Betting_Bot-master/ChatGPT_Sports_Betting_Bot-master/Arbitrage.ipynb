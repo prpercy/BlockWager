{
  "cells": [
    {
      "cell_type": "markdown",
      "id": "30146ed7",
      "metadata": {
        "id": "30146ed7"
      },
      "source": [
        "# Statistical Arbitrage for Sports Betting"
      ]
    },
    {
      "cell_type": "markdown",
      "id": "fa0524d5",
      "metadata": {
        "id": "fa0524d5"
      },
      "source": [
        "Using: Live Sports Odds API\n",
        "Documentation Link: https://the-odds-api.com/ "
      ]
    },
    {
      "cell_type": "markdown",
      "id": "40bd8cd9",
      "metadata": {
        "id": "40bd8cd9"
      },
      "source": [
        "This program will look for statistical arbitrage opportunities in the upcoming eight games across all sports."
      ]
    },
    {
      "cell_type": "markdown",
      "id": "88d7d4e1",
      "metadata": {
        "id": "88d7d4e1"
      },
      "source": [
        "### Importing Dependencies and Acquiring API Key"
      ]
    },
    {
      "cell_type": "code",
      "source": [
        "!pip install XlsxWriter\n"
      ],
      "metadata": {
        "colab": {
          "base_uri": "https://localhost:8080/"
        },
        "id": "eJSxv9OndOcl",
        "outputId": "62522347-b8d2-46c3-e23f-58b0bdd051ac"
      },
      "id": "eJSxv9OndOcl",
      "execution_count": null,
      "outputs": [
        {
          "output_type": "stream",
          "name": "stdout",
          "text": [
            "Looking in indexes: https://pypi.org/simple, https://us-python.pkg.dev/colab-wheels/public/simple/\n",
            "Collecting XlsxWriter\n",
            "  Downloading XlsxWriter-3.0.7-py3-none-any.whl (152 kB)\n",
            "\u001b[2K     \u001b[90m━━━━━━━━━━━━━━━━━━━━━━━━━━━━━━━━━━━━━━━\u001b[0m \u001b[32m152.8/152.8 KB\u001b[0m \u001b[31m4.7 MB/s\u001b[0m eta \u001b[36m0:00:00\u001b[0m\n",
            "\u001b[?25hInstalling collected packages: XlsxWriter\n",
            "Successfully installed XlsxWriter-3.0.7\n"
          ]
        }
      ]
    },
    {
      "cell_type": "code",
      "execution_count": null,
      "id": "31fa11dc",
      "metadata": {
        "id": "31fa11dc"
      },
      "outputs": [],
      "source": [
        "import requests\n",
        "import xlsxwriter\n",
        "import pandas as pd\n",
        "import numpy as np\n",
        "import openpyxl\n",
        "from openpyxl import Workbook, load_workbook\n",
        "from openpyxl.styles import Border, Side, Font, Alignment, PatternFill, numbers\n",
        "\n",
        "f = open('API_KEY.txt', 'r')\n",
        "API_KEY = f.read()\n",
        "f.close()"
      ]
    },
    {
      "cell_type": "markdown",
      "id": "2728ca07",
      "metadata": {
        "id": "2728ca07"
      },
      "source": [
        "### Defining Constants and Making API Call\n",
        "- ``BET_SIZE`` is the monetary amount in USD that you are willing to make for each bet. For example, if you define ``BET_SIZE`` as 100, you are telling the program that you want to bet a total of 100 dollars USD for each arbitrage opportunity that the program finds"
      ]
    },
    {
      "cell_type": "code",
      "execution_count": null,
      "id": "b07f9912",
      "metadata": {
        "scrolled": false,
        "id": "b07f9912"
      },
      "outputs": [],
      "source": [
        "SPORT = 'upcoming' # use the sport_key from the /sports endpoint below, or use 'upcoming' to see the next 8 games across all sports\n",
        "\n",
        "REGIONS = 'us' # uk | us | eu | au. Multiple can be specified if comma delimited\n",
        "\n",
        "MARKETS = 'h2h' # h2h | spreads | totals. Multiple can be specified if comma delimited\n",
        "\n",
        "ODDS_FORMAT = 'decimal' # decimal | american\n",
        "\n",
        "DATE_FORMAT = 'iso' # iso | unix\n",
        "\n",
        "BET_SIZE = 100\n",
        "\n",
        "odds_response = requests.get(\n",
        "    f'https://api.the-odds-api.com/v4/sports/{SPORT}/odds',\n",
        "    params={\n",
        "        'api_key': 'b4021dc31a86d0c5bcd86955385f6714',\n",
        "        'regions': REGIONS,\n",
        "        'markets': MARKETS,\n",
        "        'oddsFormat': ODDS_FORMAT,\n",
        "        'dateFormat': DATE_FORMAT,\n",
        "    }\n",
        ").json()"
      ]
    },
    {
      "cell_type": "code",
      "execution_count": null,
      "id": "a406cfc7",
      "metadata": {
        "colab": {
          "base_uri": "https://localhost:8080/"
        },
        "id": "a406cfc7",
        "outputId": "dbcdb737-c86a-4dff-c417-648348841556"
      },
      "outputs": [
        {
          "output_type": "stream",
          "name": "stdout",
          "text": [
            "[{'id': 'ee0b149220d3dc2e6e3c069b6990a86a', 'sport_key': 'basketball_ncaab', 'sport_title': 'NCAAB', 'commence_time': '2023-01-19T23:31:42Z', 'home_team': 'Michigan St Spartans', 'away_team': 'Rutgers Scarlet Knights', 'bookmakers': [{'key': 'bovada', 'title': 'Bovada', 'last_update': '2023-01-19T23:55:58Z', 'markets': [{'key': 'h2h', 'last_update': '2023-01-19T23:55:58Z', 'outcomes': [{'name': 'Michigan St Spartans', 'price': 2.2}, {'name': 'Rutgers Scarlet Knights', 'price': 1.62}]}]}, {'key': 'twinspires', 'title': 'TwinSpires', 'last_update': '2023-01-19T23:56:24Z', 'markets': [{'key': 'h2h', 'last_update': '2023-01-19T23:56:24Z', 'outcomes': [{'name': 'Michigan St Spartans', 'price': 1.79}, {'name': 'Rutgers Scarlet Knights', 'price': 1.97}]}]}, {'key': 'barstool', 'title': 'Barstool Sportsbook', 'last_update': '2023-01-19T23:56:17Z', 'markets': [{'key': 'h2h', 'last_update': '2023-01-19T23:56:17Z', 'outcomes': [{'name': 'Michigan St Spartans', 'price': 1.79}, {'name': 'Rutgers Scarlet Knights', 'price': 1.97}]}]}, {'key': 'circasports', 'title': 'Circa Sports', 'last_update': '2023-01-19T23:55:59Z', 'markets': [{'key': 'h2h', 'last_update': '2023-01-19T23:55:59Z', 'outcomes': [{'name': 'Michigan St Spartans', 'price': 1.82}, {'name': 'Rutgers Scarlet Knights', 'price': 2.01}]}]}, {'key': 'mybookieag', 'title': 'MyBookie.ag', 'last_update': '2023-01-19T23:56:17Z', 'markets': [{'key': 'h2h', 'last_update': '2023-01-19T23:56:17Z', 'outcomes': [{'name': 'Michigan St Spartans', 'price': 1.85}, {'name': 'Rutgers Scarlet Knights', 'price': 1.9}]}]}]}, {'id': 'e56a1f98ce0c2bb97eec658e0903284e', 'sport_key': 'basketball_ncaab', 'sport_title': 'NCAAB', 'commence_time': '2023-01-20T00:00:00Z', 'home_team': 'Albany Great Danes', 'away_team': 'Binghamton Bearcats', 'bookmakers': [{'key': 'sugarhouse', 'title': 'SugarHouse', 'last_update': '2023-01-19T23:55:58Z', 'markets': [{'key': 'h2h', 'last_update': '2023-01-19T23:55:58Z', 'outcomes': [{'name': 'Albany Great Danes', 'price': 1.8}, {'name': 'Binghamton Bearcats', 'price': 2.04}]}]}, {'key': 'barstool', 'title': 'Barstool Sportsbook', 'last_update': '2023-01-19T23:56:17Z', 'markets': [{'key': 'h2h', 'last_update': '2023-01-19T23:56:17Z', 'outcomes': [{'name': 'Albany Great Danes', 'price': 1.8}, {'name': 'Binghamton Bearcats', 'price': 2.04}]}]}, {'key': 'twinspires', 'title': 'TwinSpires', 'last_update': '2023-01-19T23:56:24Z', 'markets': [{'key': 'h2h', 'last_update': '2023-01-19T23:56:24Z', 'outcomes': [{'name': 'Albany Great Danes', 'price': 1.8}, {'name': 'Binghamton Bearcats', 'price': 2.04}]}]}, {'key': 'unibet_us', 'title': 'Unibet', 'last_update': '2023-01-19T23:56:00Z', 'markets': [{'key': 'h2h', 'last_update': '2023-01-19T23:55:59Z', 'outcomes': [{'name': 'Albany Great Danes', 'price': 1.8}, {'name': 'Binghamton Bearcats', 'price': 2.04}]}]}, {'key': 'pointsbetus', 'title': 'PointsBet (US)', 'last_update': '2023-01-19T23:56:12Z', 'markets': [{'key': 'h2h', 'last_update': '2023-01-19T23:56:12Z', 'outcomes': [{'name': 'Albany Great Danes', 'price': 1.83}, {'name': 'Binghamton Bearcats', 'price': 2.0}]}]}, {'key': 'betrivers', 'title': 'BetRivers', 'last_update': '2023-01-19T23:55:59Z', 'markets': [{'key': 'h2h', 'last_update': '2023-01-19T23:55:59Z', 'outcomes': [{'name': 'Albany Great Danes', 'price': 1.8}, {'name': 'Binghamton Bearcats', 'price': 2.04}]}]}, {'key': 'fanduel', 'title': 'FanDuel', 'last_update': '2023-01-19T23:56:30Z', 'markets': [{'key': 'h2h', 'last_update': '2023-01-19T23:56:30Z', 'outcomes': [{'name': 'Albany Great Danes', 'price': 1.85}, {'name': 'Binghamton Bearcats', 'price': 1.98}]}]}, {'key': 'williamhill_us', 'title': 'William Hill (US)', 'last_update': '2023-01-19T23:55:58Z', 'markets': [{'key': 'h2h', 'last_update': '2023-01-19T23:55:58Z', 'outcomes': [{'name': 'Albany Great Danes', 'price': 1.77}, {'name': 'Binghamton Bearcats', 'price': 2.1}]}]}, {'key': 'betus', 'title': 'BetUS', 'last_update': '2023-01-19T23:55:42Z', 'markets': [{'key': 'h2h', 'last_update': '2023-01-19T23:55:42Z', 'outcomes': [{'name': 'Albany Great Danes', 'price': 1.8}, {'name': 'Binghamton Bearcats', 'price': 2.05}]}]}, {'key': 'draftkings', 'title': 'DraftKings', 'last_update': '2023-01-19T23:55:57Z', 'markets': [{'key': 'h2h', 'last_update': '2023-01-19T23:55:57Z', 'outcomes': [{'name': 'Albany Great Danes', 'price': 1.8}, {'name': 'Binghamton Bearcats', 'price': 2.05}]}]}, {'key': 'superbook', 'title': 'SuperBook', 'last_update': '2023-01-19T23:55:59Z', 'markets': [{'key': 'h2h', 'last_update': '2023-01-19T23:55:59Z', 'outcomes': [{'name': 'Albany Great Danes', 'price': 1.83}, {'name': 'Binghamton Bearcats', 'price': 2.0}]}]}, {'key': 'foxbet', 'title': 'FOX Bet', 'last_update': '2023-01-19T23:55:57Z', 'markets': [{'key': 'h2h', 'last_update': '2023-01-19T23:55:57Z', 'outcomes': [{'name': 'Albany Great Danes', 'price': 1.72}, {'name': 'Binghamton Bearcats', 'price': 2.0}]}]}, {'key': 'wynnbet', 'title': 'WynnBET', 'last_update': '2023-01-19T23:56:25Z', 'markets': [{'key': 'h2h', 'last_update': '2023-01-19T23:56:24Z', 'outcomes': [{'name': 'Albany Great Danes', 'price': 1.83}, {'name': 'Binghamton Bearcats', 'price': 2.0}]}]}, {'key': 'betmgm', 'title': 'BetMGM', 'last_update': '2023-01-19T23:54:45Z', 'markets': [{'key': 'h2h', 'last_update': '2023-01-19T23:54:45Z', 'outcomes': [{'name': 'Albany Great Danes', 'price': 1.83}, {'name': 'Binghamton Bearcats', 'price': 2.0}]}]}, {'key': 'mybookieag', 'title': 'MyBookie.ag', 'last_update': '2023-01-19T23:56:17Z', 'markets': [{'key': 'h2h', 'last_update': '2023-01-19T23:56:17Z', 'outcomes': [{'name': 'Albany Great Danes', 'price': 1.8}, {'name': 'Binghamton Bearcats', 'price': 2.02}]}]}]}, {'id': '7cad2c199606420832a90cc8b915fb41', 'sport_key': 'icehockey_nhl', 'sport_title': 'NHL', 'commence_time': '2023-01-20T00:00:00Z', 'home_team': 'Columbus Blue Jackets', 'away_team': 'Anaheim Ducks', 'bookmakers': [{'key': 'betonlineag', 'title': 'BetOnline.ag', 'last_update': '2023-01-19T23:56:03Z', 'markets': [{'key': 'h2h', 'last_update': '2023-01-19T23:56:03Z', 'outcomes': [{'name': 'Anaheim Ducks', 'price': 2.46}, {'name': 'Columbus Blue Jackets', 'price': 1.61}]}]}, {'key': 'barstool', 'title': 'Barstool Sportsbook', 'last_update': '2023-01-19T23:56:03Z', 'markets': [{'key': 'h2h', 'last_update': '2023-01-19T23:56:03Z', 'outcomes': [{'name': 'Anaheim Ducks', 'price': 2.38}, {'name': 'Columbus Blue Jackets', 'price': 1.6}]}]}, {'key': 'betrivers', 'title': 'BetRivers', 'last_update': '2023-01-19T23:56:33Z', 'markets': [{'key': 'h2h', 'last_update': '2023-01-19T23:56:33Z', 'outcomes': [{'name': 'Anaheim Ducks', 'price': 2.4}, {'name': 'Columbus Blue Jackets', 'price': 1.61}]}]}, {'key': 'sugarhouse', 'title': 'SugarHouse', 'last_update': '2023-01-19T23:56:33Z', 'markets': [{'key': 'h2h', 'last_update': '2023-01-19T23:56:33Z', 'outcomes': [{'name': 'Anaheim Ducks', 'price': 2.4}, {'name': 'Columbus Blue Jackets', 'price': 1.61}]}]}, {'key': 'twinspires', 'title': 'TwinSpires', 'last_update': '2023-01-19T23:56:34Z', 'markets': [{'key': 'h2h', 'last_update': '2023-01-19T23:56:34Z', 'outcomes': [{'name': 'Anaheim Ducks', 'price': 2.38}, {'name': 'Columbus Blue Jackets', 'price': 1.6}]}]}, {'key': 'unibet_us', 'title': 'Unibet', 'last_update': '2023-01-19T23:56:34Z', 'markets': [{'key': 'h2h', 'last_update': '2023-01-19T23:56:34Z', 'outcomes': [{'name': 'Anaheim Ducks', 'price': 2.38}, {'name': 'Columbus Blue Jackets', 'price': 1.6}]}]}, {'key': 'betus', 'title': 'BetUS', 'last_update': '2023-01-19T23:55:44Z', 'markets': [{'key': 'h2h', 'last_update': '2023-01-19T23:55:44Z', 'outcomes': [{'name': 'Anaheim Ducks', 'price': 2.5}, {'name': 'Columbus Blue Jackets', 'price': 1.59}]}]}, {'key': 'lowvig', 'title': 'LowVig.ag', 'last_update': '2023-01-19T23:56:16Z', 'markets': [{'key': 'h2h', 'last_update': '2023-01-19T23:56:16Z', 'outcomes': [{'name': 'Anaheim Ducks', 'price': 2.46}, {'name': 'Columbus Blue Jackets', 'price': 1.62}]}]}, {'key': 'williamhill_us', 'title': 'William Hill (US)', 'last_update': '2023-01-19T23:56:33Z', 'markets': [{'key': 'h2h', 'last_update': '2023-01-19T23:56:33Z', 'outcomes': [{'name': 'Anaheim Ducks', 'price': 2.43}, {'name': 'Columbus Blue Jackets', 'price': 1.59}]}]}, {'key': 'draftkings', 'title': 'DraftKings', 'last_update': '2023-01-19T23:56:33Z', 'markets': [{'key': 'h2h', 'last_update': '2023-01-19T23:56:33Z', 'outcomes': [{'name': 'Anaheim Ducks', 'price': 2.4}, {'name': 'Columbus Blue Jackets', 'price': 1.61}]}]}, {'key': 'pointsbetus', 'title': 'PointsBet (US)', 'last_update': '2023-01-19T23:56:26Z', 'markets': [{'key': 'h2h', 'last_update': '2023-01-19T23:56:26Z', 'outcomes': [{'name': 'Anaheim Ducks', 'price': 2.45}, {'name': 'Columbus Blue Jackets', 'price': 1.57}]}]}, {'key': 'wynnbet', 'title': 'WynnBET', 'last_update': '2023-01-19T23:56:34Z', 'markets': [{'key': 'h2h', 'last_update': '2023-01-19T23:56:34Z', 'outcomes': [{'name': 'Anaheim Ducks', 'price': 2.45}, {'name': 'Columbus Blue Jackets', 'price': 1.57}]}]}, {'key': 'betmgm', 'title': 'BetMGM', 'last_update': '2023-01-19T23:56:18Z', 'markets': [{'key': 'h2h', 'last_update': '2023-01-19T23:56:18Z', 'outcomes': [{'name': 'Anaheim Ducks', 'price': 2.45}, {'name': 'Columbus Blue Jackets', 'price': 1.57}]}]}, {'key': 'superbook', 'title': 'SuperBook', 'last_update': '2023-01-19T23:56:34Z', 'markets': [{'key': 'h2h', 'last_update': '2023-01-19T23:56:34Z', 'outcomes': [{'name': 'Anaheim Ducks', 'price': 2.48}, {'name': 'Columbus Blue Jackets', 'price': 1.61}]}]}, {'key': 'bovada', 'title': 'Bovada', 'last_update': '2023-01-19T23:56:03Z', 'markets': [{'key': 'h2h', 'last_update': '2023-01-19T23:56:03Z', 'outcomes': [{'name': 'Anaheim Ducks', 'price': 2.45}, {'name': 'Columbus Blue Jackets', 'price': 1.59}]}]}, {'key': 'fanduel', 'title': 'FanDuel', 'last_update': '2023-01-19T23:56:33Z', 'markets': [{'key': 'h2h', 'last_update': '2023-01-19T23:56:33Z', 'outcomes': [{'name': 'Anaheim Ducks', 'price': 2.42}, {'name': 'Columbus Blue Jackets', 'price': 1.58}]}]}, {'key': 'foxbet', 'title': 'FOX Bet', 'last_update': '2023-01-19T23:56:33Z', 'markets': [{'key': 'h2h', 'last_update': '2023-01-19T23:56:33Z', 'outcomes': [{'name': 'Anaheim Ducks', 'price': 2.3}, {'name': 'Columbus Blue Jackets', 'price': 1.6}]}]}, {'key': 'mybookieag', 'title': 'MyBookie.ag', 'last_update': '2023-01-19T23:56:18Z', 'markets': [{'key': 'h2h', 'last_update': '2023-01-19T23:56:18Z', 'outcomes': [{'name': 'Anaheim Ducks', 'price': 2.39}, {'name': 'Columbus Blue Jackets', 'price': 1.59}]}]}, {'key': 'circasports', 'title': 'Circa Sports', 'last_update': '2023-01-19T23:56:34Z', 'markets': [{'key': 'h2h', 'last_update': '2023-01-19T23:56:34Z', 'outcomes': [{'name': 'Anaheim Ducks', 'price': 2.45}, {'name': 'Columbus Blue Jackets', 'price': 1.56}]}]}]}, {'id': '0a26faeb0c79827b0b6e01dba7a4eb85', 'sport_key': 'tennis_wta_aus_open_singles', 'sport_title': 'WTA Australian Open', 'commence_time': '2023-01-20T00:00:00Z', 'home_team': 'Barbora Krejcikova', 'away_team': 'Anhelina Kalinina', 'bookmakers': [{'key': 'wynnbet', 'title': 'WynnBET', 'last_update': '2023-01-19T23:55:51Z', 'markets': [{'key': 'h2h', 'last_update': '2023-01-19T23:55:51Z', 'outcomes': [{'name': 'Anhelina Kalinina', 'price': 2.25}, {'name': 'Barbora Krejcikova', 'price': 1.65}]}]}, {'key': 'pointsbetus', 'title': 'PointsBet (US)', 'last_update': '2023-01-19T23:55:35Z', 'markets': [{'key': 'h2h', 'last_update': '2023-01-19T23:55:35Z', 'outcomes': [{'name': 'Anhelina Kalinina', 'price': 2.25}, {'name': 'Barbora Krejcikova', 'price': 1.65}]}]}, {'key': 'fanduel', 'title': 'FanDuel', 'last_update': '2023-01-19T23:55:50Z', 'markets': [{'key': 'h2h', 'last_update': '2023-01-19T23:55:50Z', 'outcomes': [{'name': 'Anhelina Kalinina', 'price': 2.26}, {'name': 'Barbora Krejcikova', 'price': 1.68}]}]}, {'key': 'mybookieag', 'title': 'MyBookie.ag', 'last_update': '2023-01-19T23:56:17Z', 'markets': [{'key': 'h2h', 'last_update': '2023-01-19T23:56:16Z', 'outcomes': [{'name': 'Anhelina Kalinina', 'price': 2.28}, {'name': 'Barbora Krejcikova', 'price': 1.61}]}]}, {'key': 'draftkings', 'title': 'DraftKings', 'last_update': '2023-01-19T23:55:50Z', 'markets': [{'key': 'h2h', 'last_update': '2023-01-19T23:55:50Z', 'outcomes': [{'name': 'Anhelina Kalinina', 'price': 2.25}, {'name': 'Barbora Krejcikova', 'price': 1.67}]}]}, {'key': 'betonlineag', 'title': 'BetOnline.ag', 'last_update': '2023-01-19T23:56:34Z', 'markets': [{'key': 'h2h', 'last_update': '2023-01-19T23:56:34Z', 'outcomes': [{'name': 'Anhelina Kalinina', 'price': 2.25}, {'name': 'Barbora Krejcikova', 'price': 1.69}]}]}, {'key': 'lowvig', 'title': 'LowVig.ag', 'last_update': '2023-01-19T23:55:58Z', 'markets': [{'key': 'h2h', 'last_update': '2023-01-19T23:55:58Z', 'outcomes': [{'name': 'Anhelina Kalinina', 'price': 2.25}, {'name': 'Barbora Krejcikova', 'price': 1.69}]}]}, {'key': 'betrivers', 'title': 'BetRivers', 'last_update': '2023-01-19T23:55:50Z', 'markets': [{'key': 'h2h', 'last_update': '2023-01-19T23:55:50Z', 'outcomes': [{'name': 'Anhelina Kalinina', 'price': 2.25}, {'name': 'Barbora Krejcikova', 'price': 1.65}]}]}, {'key': 'barstool', 'title': 'Barstool Sportsbook', 'last_update': '2023-01-19T23:56:28Z', 'markets': [{'key': 'h2h', 'last_update': '2023-01-19T23:56:28Z', 'outcomes': [{'name': 'Anhelina Kalinina', 'price': 2.25}, {'name': 'Barbora Krejcikova', 'price': 1.65}]}]}, {'key': 'sugarhouse', 'title': 'SugarHouse', 'last_update': '2023-01-19T23:55:50Z', 'markets': [{'key': 'h2h', 'last_update': '2023-01-19T23:55:50Z', 'outcomes': [{'name': 'Anhelina Kalinina', 'price': 2.25}, {'name': 'Barbora Krejcikova', 'price': 1.65}]}]}, {'key': 'twinspires', 'title': 'TwinSpires', 'last_update': '2023-01-19T23:55:51Z', 'markets': [{'key': 'h2h', 'last_update': '2023-01-19T23:55:51Z', 'outcomes': [{'name': 'Anhelina Kalinina', 'price': 2.25}, {'name': 'Barbora Krejcikova', 'price': 1.65}]}]}, {'key': 'unibet_us', 'title': 'Unibet', 'last_update': '2023-01-19T23:55:52Z', 'markets': [{'key': 'h2h', 'last_update': '2023-01-19T23:55:52Z', 'outcomes': [{'name': 'Anhelina Kalinina', 'price': 2.25}, {'name': 'Barbora Krejcikova', 'price': 1.65}]}]}, {'key': 'bovada', 'title': 'Bovada', 'last_update': '2023-01-19T23:56:29Z', 'markets': [{'key': 'h2h', 'last_update': '2023-01-19T23:56:29Z', 'outcomes': [{'name': 'Anhelina Kalinina', 'price': 2.3}, {'name': 'Barbora Krejcikova', 'price': 1.65}]}]}, {'key': 'foxbet', 'title': 'FOX Bet', 'last_update': '2023-01-19T23:55:50Z', 'markets': [{'key': 'h2h', 'last_update': '2023-01-19T23:55:50Z', 'outcomes': [{'name': 'Anhelina Kalinina', 'price': 2.2}, {'name': 'Barbora Krejcikova', 'price': 1.62}]}]}]}, {'id': 'f9b9d57cb9d8181dc7588e01e29ae144', 'sport_key': 'basketball_ncaab', 'sport_title': 'NCAAB', 'commence_time': '2023-01-20T00:00:00Z', 'home_team': 'Coastal Carolina Chanticleers', 'away_team': 'Appalachian St Mountaineers', 'bookmakers': [{'key': 'draftkings', 'title': 'DraftKings', 'last_update': '2023-01-19T23:55:57Z', 'markets': [{'key': 'h2h', 'last_update': '2023-01-19T23:55:57Z', 'outcomes': [{'name': 'Appalachian St Mountaineers', 'price': 1.77}, {'name': 'Coastal Carolina Chanticleers', 'price': 2.1}]}]}, {'key': 'betonlineag', 'title': 'BetOnline.ag', 'last_update': '2023-01-19T23:56:30Z', 'markets': [{'key': 'h2h', 'last_update': '2023-01-19T23:56:30Z', 'outcomes': [{'name': 'Appalachian St Mountaineers', 'price': 1.77}, {'name': 'Coastal Carolina Chanticleers', 'price': 2.1}]}]}, {'key': 'lowvig', 'title': 'LowVig.ag', 'last_update': '2023-01-19T23:56:14Z', 'markets': [{'key': 'h2h', 'last_update': '2023-01-19T23:56:14Z', 'outcomes': [{'name': 'Appalachian St Mountaineers', 'price': 1.77}, {'name': 'Coastal Carolina Chanticleers', 'price': 2.1}]}]}, {'key': 'williamhill_us', 'title': 'William Hill (US)', 'last_update': '2023-01-19T23:55:58Z', 'markets': [{'key': 'h2h', 'last_update': '2023-01-19T23:55:58Z', 'outcomes': [{'name': 'Appalachian St Mountaineers', 'price': 1.74}, {'name': 'Coastal Carolina Chanticleers', 'price': 2.15}]}]}, {'key': 'bovada', 'title': 'Bovada', 'last_update': '2023-01-19T23:55:58Z', 'markets': [{'key': 'h2h', 'last_update': '2023-01-19T23:55:58Z', 'outcomes': [{'name': 'Appalachian St Mountaineers', 'price': 1.74}, {'name': 'Coastal Carolina Chanticleers', 'price': 2.15}]}]}, {'key': 'betus', 'title': 'BetUS', 'last_update': '2023-01-19T23:55:42Z', 'markets': [{'key': 'h2h', 'last_update': '2023-01-19T23:55:42Z', 'outcomes': [{'name': 'Appalachian St Mountaineers', 'price': 1.83}, {'name': 'Coastal Carolina Chanticleers', 'price': 2.0}]}]}, {'key': 'wynnbet', 'title': 'WynnBET', 'last_update': '2023-01-19T23:56:25Z', 'markets': [{'key': 'h2h', 'last_update': '2023-01-19T23:56:24Z', 'outcomes': [{'name': 'Appalachian St Mountaineers', 'price': 1.74}, {'name': 'Coastal Carolina Chanticleers', 'price': 2.15}]}]}, {'key': 'pointsbetus', 'title': 'PointsBet (US)', 'last_update': '2023-01-19T23:56:12Z', 'markets': [{'key': 'h2h', 'last_update': '2023-01-19T23:56:12Z', 'outcomes': [{'name': 'Appalachian St Mountaineers', 'price': 1.77}, {'name': 'Coastal Carolina Chanticleers', 'price': 2.1}]}]}, {'key': 'betmgm', 'title': 'BetMGM', 'last_update': '2023-01-19T23:54:45Z', 'markets': [{'key': 'h2h', 'last_update': '2023-01-19T23:54:45Z', 'outcomes': [{'name': 'Appalachian St Mountaineers', 'price': 1.74}, {'name': 'Coastal Carolina Chanticleers', 'price': 2.1}]}]}, {'key': 'fanduel', 'title': 'FanDuel', 'last_update': '2023-01-19T23:56:30Z', 'markets': [{'key': 'h2h', 'last_update': '2023-01-19T23:56:30Z', 'outcomes': [{'name': 'Appalachian St Mountaineers', 'price': 1.73}, {'name': 'Coastal Carolina Chanticleers', 'price': 2.14}]}]}, {'key': 'superbook', 'title': 'SuperBook', 'last_update': '2023-01-19T23:55:59Z', 'markets': [{'key': 'h2h', 'last_update': '2023-01-19T23:55:59Z', 'outcomes': [{'name': 'Appalachian St Mountaineers', 'price': 1.74}, {'name': 'Coastal Carolina Chanticleers', 'price': 2.15}]}]}, {'key': 'sugarhouse', 'title': 'SugarHouse', 'last_update': '2023-01-19T23:55:58Z', 'markets': [{'key': 'h2h', 'last_update': '2023-01-19T23:55:58Z', 'outcomes': [{'name': 'Appalachian St Mountaineers', 'price': 1.74}, {'name': 'Coastal Carolina Chanticleers', 'price': 2.12}]}]}, {'key': 'twinspires', 'title': 'TwinSpires', 'last_update': '2023-01-19T23:56:24Z', 'markets': [{'key': 'h2h', 'last_update': '2023-01-19T23:56:24Z', 'outcomes': [{'name': 'Appalachian St Mountaineers', 'price': 1.74}, {'name': 'Coastal Carolina Chanticleers', 'price': 2.12}]}]}, {'key': 'unibet_us', 'title': 'Unibet', 'last_update': '2023-01-19T23:56:00Z', 'markets': [{'key': 'h2h', 'last_update': '2023-01-19T23:55:59Z', 'outcomes': [{'name': 'Appalachian St Mountaineers', 'price': 1.74}, {'name': 'Coastal Carolina Chanticleers', 'price': 2.12}]}]}, {'key': 'barstool', 'title': 'Barstool Sportsbook', 'last_update': '2023-01-19T23:56:17Z', 'markets': [{'key': 'h2h', 'last_update': '2023-01-19T23:56:17Z', 'outcomes': [{'name': 'Appalachian St Mountaineers', 'price': 1.74}, {'name': 'Coastal Carolina Chanticleers', 'price': 2.12}]}]}, {'key': 'betrivers', 'title': 'BetRivers', 'last_update': '2023-01-19T23:55:59Z', 'markets': [{'key': 'h2h', 'last_update': '2023-01-19T23:55:59Z', 'outcomes': [{'name': 'Appalachian St Mountaineers', 'price': 1.74}, {'name': 'Coastal Carolina Chanticleers', 'price': 2.12}]}]}, {'key': 'circasports', 'title': 'Circa Sports', 'last_update': '2023-01-19T23:55:59Z', 'markets': [{'key': 'h2h', 'last_update': '2023-01-19T23:55:59Z', 'outcomes': [{'name': 'Appalachian St Mountaineers', 'price': 1.73}, {'name': 'Coastal Carolina Chanticleers', 'price': 2.13}]}]}, {'key': 'foxbet', 'title': 'FOX Bet', 'last_update': '2023-01-19T23:55:57Z', 'markets': [{'key': 'h2h', 'last_update': '2023-01-19T23:55:57Z', 'outcomes': [{'name': 'Appalachian St Mountaineers', 'price': 1.7}, {'name': 'Coastal Carolina Chanticleers', 'price': 2.05}]}]}, {'key': 'mybookieag', 'title': 'MyBookie.ag', 'last_update': '2023-01-19T23:56:17Z', 'markets': [{'key': 'h2h', 'last_update': '2023-01-19T23:56:17Z', 'outcomes': [{'name': 'Appalachian St Mountaineers', 'price': 1.74}, {'name': 'Coastal Carolina Chanticleers', 'price': 2.12}]}]}]}, {'id': 'a474d0c6211b5db866f236946709052a', 'sport_key': 'icehockey_nhl', 'sport_title': 'NHL', 'commence_time': '2023-01-20T00:00:00Z', 'home_team': 'New York Rangers', 'away_team': 'Boston Bruins', 'bookmakers': [{'key': 'barstool', 'title': 'Barstool Sportsbook', 'last_update': '2023-01-19T23:56:03Z', 'markets': [{'key': 'h2h', 'last_update': '2023-01-19T23:56:03Z', 'outcomes': [{'name': 'Boston Bruins', 'price': 1.91}, {'name': 'New York Rangers', 'price': 1.91}]}]}, {'key': 'sugarhouse', 'title': 'SugarHouse', 'last_update': '2023-01-19T23:56:33Z', 'markets': [{'key': 'h2h', 'last_update': '2023-01-19T23:56:33Z', 'outcomes': [{'name': 'Boston Bruins', 'price': 1.93}, {'name': 'New York Rangers', 'price': 1.93}]}]}, {'key': 'betrivers', 'title': 'BetRivers', 'last_update': '2023-01-19T23:56:33Z', 'markets': [{'key': 'h2h', 'last_update': '2023-01-19T23:56:33Z', 'outcomes': [{'name': 'Boston Bruins', 'price': 1.93}, {'name': 'New York Rangers', 'price': 1.93}]}]}, {'key': 'twinspires', 'title': 'TwinSpires', 'last_update': '2023-01-19T23:56:34Z', 'markets': [{'key': 'h2h', 'last_update': '2023-01-19T23:56:34Z', 'outcomes': [{'name': 'Boston Bruins', 'price': 1.91}, {'name': 'New York Rangers', 'price': 1.91}]}]}, {'key': 'unibet_us', 'title': 'Unibet', 'last_update': '2023-01-19T23:56:34Z', 'markets': [{'key': 'h2h', 'last_update': '2023-01-19T23:56:34Z', 'outcomes': [{'name': 'Boston Bruins', 'price': 1.91}, {'name': 'New York Rangers', 'price': 1.91}]}]}, {'key': 'betus', 'title': 'BetUS', 'last_update': '2023-01-19T23:55:44Z', 'markets': [{'key': 'h2h', 'last_update': '2023-01-19T23:55:44Z', 'outcomes': [{'name': 'Boston Bruins', 'price': 1.91}, {'name': 'New York Rangers', 'price': 1.91}]}]}, {'key': 'draftkings', 'title': 'DraftKings', 'last_update': '2023-01-19T23:56:33Z', 'markets': [{'key': 'h2h', 'last_update': '2023-01-19T23:56:33Z', 'outcomes': [{'name': 'Boston Bruins', 'price': 1.87}, {'name': 'New York Rangers', 'price': 1.95}]}]}, {'key': 'betmgm', 'title': 'BetMGM', 'last_update': '2023-01-19T23:56:18Z', 'markets': [{'key': 'h2h', 'last_update': '2023-01-19T23:56:18Z', 'outcomes': [{'name': 'Boston Bruins', 'price': 1.91}, {'name': 'New York Rangers', 'price': 1.91}]}]}, {'key': 'fanduel', 'title': 'FanDuel', 'last_update': '2023-01-19T23:56:33Z', 'markets': [{'key': 'h2h', 'last_update': '2023-01-19T23:56:33Z', 'outcomes': [{'name': 'Boston Bruins', 'price': 1.91}, {'name': 'New York Rangers', 'price': 1.91}]}]}, {'key': 'foxbet', 'title': 'FOX Bet', 'last_update': '2023-01-19T23:56:33Z', 'markets': [{'key': 'h2h', 'last_update': '2023-01-19T23:56:33Z', 'outcomes': [{'name': 'Boston Bruins', 'price': 1.85}, {'name': 'New York Rangers', 'price': 1.95}]}]}, {'key': 'mybookieag', 'title': 'MyBookie.ag', 'last_update': '2023-01-19T23:56:18Z', 'markets': [{'key': 'h2h', 'last_update': '2023-01-19T23:56:18Z', 'outcomes': [{'name': 'Boston Bruins', 'price': 1.91}, {'name': 'New York Rangers', 'price': 1.91}]}]}, {'key': 'williamhill_us', 'title': 'William Hill (US)', 'last_update': '2023-01-19T23:56:33Z', 'markets': [{'key': 'h2h', 'last_update': '2023-01-19T23:56:33Z', 'outcomes': [{'name': 'Boston Bruins', 'price': 1.91}, {'name': 'New York Rangers', 'price': 1.91}]}]}, {'key': 'pointsbetus', 'title': 'PointsBet (US)', 'last_update': '2023-01-19T23:56:26Z', 'markets': [{'key': 'h2h', 'last_update': '2023-01-19T23:56:26Z', 'outcomes': [{'name': 'Boston Bruins', 'price': 1.91}, {'name': 'New York Rangers', 'price': 1.91}]}]}, {'key': 'wynnbet', 'title': 'WynnBET', 'last_update': '2023-01-19T23:56:34Z', 'markets': [{'key': 'h2h', 'last_update': '2023-01-19T23:56:34Z', 'outcomes': [{'name': 'Boston Bruins', 'price': 1.91}, {'name': 'New York Rangers', 'price': 1.91}]}]}, {'key': 'bovada', 'title': 'Bovada', 'last_update': '2023-01-19T23:56:03Z', 'markets': [{'key': 'h2h', 'last_update': '2023-01-19T23:56:03Z', 'outcomes': [{'name': 'Boston Bruins', 'price': 1.87}, {'name': 'New York Rangers', 'price': 1.95}]}]}, {'key': 'betonlineag', 'title': 'BetOnline.ag', 'last_update': '2023-01-19T23:56:03Z', 'markets': [{'key': 'h2h', 'last_update': '2023-01-19T23:56:03Z', 'outcomes': [{'name': 'Boston Bruins', 'price': 1.93}, {'name': 'New York Rangers', 'price': 1.97}]}]}, {'key': 'lowvig', 'title': 'LowVig.ag', 'last_update': '2023-01-19T23:56:16Z', 'markets': [{'key': 'h2h', 'last_update': '2023-01-19T23:56:16Z', 'outcomes': [{'name': 'Boston Bruins', 'price': 1.94}, {'name': 'New York Rangers', 'price': 1.97}]}]}, {'key': 'superbook', 'title': 'SuperBook', 'last_update': '2023-01-19T23:56:34Z', 'markets': [{'key': 'h2h', 'last_update': '2023-01-19T23:56:34Z', 'outcomes': [{'name': 'Boston Bruins', 'price': 1.95}, {'name': 'New York Rangers', 'price': 1.95}]}]}, {'key': 'circasports', 'title': 'Circa Sports', 'last_update': '2023-01-19T23:56:34Z', 'markets': [{'key': 'h2h', 'last_update': '2023-01-19T23:56:34Z', 'outcomes': [{'name': 'Boston Bruins', 'price': 1.91}, {'name': 'New York Rangers', 'price': 1.91}]}]}]}, {'id': 'a004d05f40f4d38a2e0ec231dc81db6e', 'sport_key': 'basketball_ncaab', 'sport_title': 'NCAAB', 'commence_time': '2023-01-20T00:00:00Z', 'home_team': 'Bryant Bulldogs', 'away_team': 'NJIT Highlanders', 'bookmakers': [{'key': 'barstool', 'title': 'Barstool Sportsbook', 'last_update': '2023-01-19T23:56:17Z', 'markets': [{'key': 'h2h', 'last_update': '2023-01-19T23:56:17Z', 'outcomes': [{'name': 'Bryant Bulldogs', 'price': 1.13}, {'name': 'NJIT Highlanders', 'price': 6.25}]}]}, {'key': 'twinspires', 'title': 'TwinSpires', 'last_update': '2023-01-19T23:56:24Z', 'markets': [{'key': 'h2h', 'last_update': '2023-01-19T23:56:24Z', 'outcomes': [{'name': 'Bryant Bulldogs', 'price': 1.13}, {'name': 'NJIT Highlanders', 'price': 6.25}]}]}, {'key': 'betrivers', 'title': 'BetRivers', 'last_update': '2023-01-19T23:55:59Z', 'markets': [{'key': 'h2h', 'last_update': '2023-01-19T23:55:59Z', 'outcomes': [{'name': 'Bryant Bulldogs', 'price': 1.13}, {'name': 'NJIT Highlanders', 'price': 6.25}]}]}, {'key': 'bovada', 'title': 'Bovada', 'last_update': '2023-01-19T23:55:58Z', 'markets': [{'key': 'h2h', 'last_update': '2023-01-19T23:55:58Z', 'outcomes': [{'name': 'Bryant Bulldogs', 'price': 1.12}, {'name': 'NJIT Highlanders', 'price': 6.25}]}]}, {'key': 'betus', 'title': 'BetUS', 'last_update': '2023-01-19T23:55:42Z', 'markets': [{'key': 'h2h', 'last_update': '2023-01-19T23:55:42Z', 'outcomes': [{'name': 'Bryant Bulldogs', 'price': 1.13}, {'name': 'NJIT Highlanders', 'price': 6.25}]}]}, {'key': 'superbook', 'title': 'SuperBook', 'last_update': '2023-01-19T23:55:59Z', 'markets': [{'key': 'h2h', 'last_update': '2023-01-19T23:55:59Z', 'outcomes': [{'name': 'Bryant Bulldogs', 'price': 1.12}, {'name': 'NJIT Highlanders', 'price': 6.5}]}]}, {'key': 'wynnbet', 'title': 'WynnBET', 'last_update': '2023-01-19T23:56:25Z', 'markets': [{'key': 'h2h', 'last_update': '2023-01-19T23:56:24Z', 'outcomes': [{'name': 'Bryant Bulldogs', 'price': 1.12}, {'name': 'NJIT Highlanders', 'price': 6.4}]}]}, {'key': 'mybookieag', 'title': 'MyBookie.ag', 'last_update': '2023-01-19T23:56:17Z', 'markets': [{'key': 'h2h', 'last_update': '2023-01-19T23:56:17Z', 'outcomes': [{'name': 'Bryant Bulldogs', 'price': 1.13}, {'name': 'NJIT Highlanders', 'price': 6.15}]}]}]}, {'id': '999b2b7dae60907741a52b3ef511c980', 'sport_key': 'icehockey_nhl', 'sport_title': 'NHL', 'commence_time': '2023-01-20T00:00:00Z', 'home_team': 'Carolina Hurricanes', 'away_team': 'Minnesota Wild', 'bookmakers': [{'key': 'betonlineag', 'title': 'BetOnline.ag', 'last_update': '2023-01-19T23:56:03Z', 'markets': [{'key': 'h2h', 'last_update': '2023-01-19T23:56:03Z', 'outcomes': [{'name': 'Carolina Hurricanes', 'price': 1.58}, {'name': 'Minnesota Wild', 'price': 2.54}]}]}, {'key': 'barstool', 'title': 'Barstool Sportsbook', 'last_update': '2023-01-19T23:56:03Z', 'markets': [{'key': 'h2h', 'last_update': '2023-01-19T23:56:03Z', 'outcomes': [{'name': 'Carolina Hurricanes', 'price': 1.56}, {'name': 'Minnesota Wild', 'price': 2.48}]}]}, {'key': 'betrivers', 'title': 'BetRivers', 'last_update': '2023-01-19T23:56:33Z', 'markets': [{'key': 'h2h', 'last_update': '2023-01-19T23:56:33Z', 'outcomes': [{'name': 'Carolina Hurricanes', 'price': 1.56}, {'name': 'Minnesota Wild', 'price': 2.5}]}]}, {'key': 'sugarhouse', 'title': 'SugarHouse', 'last_update': '2023-01-19T23:56:33Z', 'markets': [{'key': 'h2h', 'last_update': '2023-01-19T23:56:33Z', 'outcomes': [{'name': 'Carolina Hurricanes', 'price': 1.56}, {'name': 'Minnesota Wild', 'price': 2.5}]}]}, {'key': 'unibet_us', 'title': 'Unibet', 'last_update': '2023-01-19T23:56:34Z', 'markets': [{'key': 'h2h', 'last_update': '2023-01-19T23:56:34Z', 'outcomes': [{'name': 'Carolina Hurricanes', 'price': 1.56}, {'name': 'Minnesota Wild', 'price': 2.48}]}]}, {'key': 'betus', 'title': 'BetUS', 'last_update': '2023-01-19T23:55:44Z', 'markets': [{'key': 'h2h', 'last_update': '2023-01-19T23:55:44Z', 'outcomes': [{'name': 'Carolina Hurricanes', 'price': 1.57}, {'name': 'Minnesota Wild', 'price': 2.55}]}]}, {'key': 'lowvig', 'title': 'LowVig.ag', 'last_update': '2023-01-19T23:56:16Z', 'markets': [{'key': 'h2h', 'last_update': '2023-01-19T23:56:16Z', 'outcomes': [{'name': 'Carolina Hurricanes', 'price': 1.58}, {'name': 'Minnesota Wild', 'price': 2.54}]}]}, {'key': 'twinspires', 'title': 'TwinSpires', 'last_update': '2023-01-19T23:56:34Z', 'markets': [{'key': 'h2h', 'last_update': '2023-01-19T23:56:34Z', 'outcomes': [{'name': 'Carolina Hurricanes', 'price': 1.56}, {'name': 'Minnesota Wild', 'price': 2.48}]}]}, {'key': 'williamhill_us', 'title': 'William Hill (US)', 'last_update': '2023-01-19T23:56:33Z', 'markets': [{'key': 'h2h', 'last_update': '2023-01-19T23:56:33Z', 'outcomes': [{'name': 'Carolina Hurricanes', 'price': 1.56}, {'name': 'Minnesota Wild', 'price': 2.5}]}]}, {'key': 'draftkings', 'title': 'DraftKings', 'last_update': '2023-01-19T23:56:33Z', 'markets': [{'key': 'h2h', 'last_update': '2023-01-19T23:56:33Z', 'outcomes': [{'name': 'Carolina Hurricanes', 'price': 1.57}, {'name': 'Minnesota Wild', 'price': 2.5}]}]}, {'key': 'pointsbetus', 'title': 'PointsBet (US)', 'last_update': '2023-01-19T23:56:26Z', 'markets': [{'key': 'h2h', 'last_update': '2023-01-19T23:56:26Z', 'outcomes': [{'name': 'Carolina Hurricanes', 'price': 1.56}, {'name': 'Minnesota Wild', 'price': 2.5}]}]}, {'key': 'wynnbet', 'title': 'WynnBET', 'last_update': '2023-01-19T23:56:34Z', 'markets': [{'key': 'h2h', 'last_update': '2023-01-19T23:56:34Z', 'outcomes': [{'name': 'Carolina Hurricanes', 'price': 1.56}, {'name': 'Minnesota Wild', 'price': 2.5}]}]}, {'key': 'betmgm', 'title': 'BetMGM', 'last_update': '2023-01-19T23:56:18Z', 'markets': [{'key': 'h2h', 'last_update': '2023-01-19T23:56:18Z', 'outcomes': [{'name': 'Carolina Hurricanes', 'price': 1.57}, {'name': 'Minnesota Wild', 'price': 2.45}]}]}, {'key': 'superbook', 'title': 'SuperBook', 'last_update': '2023-01-19T23:56:34Z', 'markets': [{'key': 'h2h', 'last_update': '2023-01-19T23:56:34Z', 'outcomes': [{'name': 'Carolina Hurricanes', 'price': 1.61}, {'name': 'Minnesota Wild', 'price': 2.5}]}]}, {'key': 'bovada', 'title': 'Bovada', 'last_update': '2023-01-19T23:56:03Z', 'markets': [{'key': 'h2h', 'last_update': '2023-01-19T23:56:03Z', 'outcomes': [{'name': 'Carolina Hurricanes', 'price': 1.54}, {'name': 'Minnesota Wild', 'price': 2.6}]}]}, {'key': 'fanduel', 'title': 'FanDuel', 'last_update': '2023-01-19T23:56:33Z', 'markets': [{'key': 'h2h', 'last_update': '2023-01-19T23:56:33Z', 'outcomes': [{'name': 'Carolina Hurricanes', 'price': 1.55}, {'name': 'Minnesota Wild', 'price': 2.5}]}]}, {'key': 'foxbet', 'title': 'FOX Bet', 'last_update': '2023-01-19T23:56:33Z', 'markets': [{'key': 'h2h', 'last_update': '2023-01-19T23:56:33Z', 'outcomes': [{'name': 'Carolina Hurricanes', 'price': 1.55}, {'name': 'Minnesota Wild', 'price': 2.4}]}]}, {'key': 'mybookieag', 'title': 'MyBookie.ag', 'last_update': '2023-01-19T23:56:18Z', 'markets': [{'key': 'h2h', 'last_update': '2023-01-19T23:56:18Z', 'outcomes': [{'name': 'Carolina Hurricanes', 'price': 1.55}, {'name': 'Minnesota Wild', 'price': 2.47}]}]}, {'key': 'circasports', 'title': 'Circa Sports', 'last_update': '2023-01-19T23:56:34Z', 'markets': [{'key': 'h2h', 'last_update': '2023-01-19T23:56:34Z', 'outcomes': [{'name': 'Carolina Hurricanes', 'price': 1.54}, {'name': 'Minnesota Wild', 'price': 2.51}]}]}]}, {'id': 'b26bd1a6d302c6088e7bd5e6beb0fa43', 'sport_key': 'basketball_ncaab', 'sport_title': 'NCAAB', 'commence_time': '2023-01-20T00:00:00Z', 'home_team': 'Monmouth Hawks', 'away_team': 'Charleston Cougars', 'bookmakers': [{'key': 'twinspires', 'title': 'TwinSpires', 'last_update': '2023-01-19T23:56:24Z', 'markets': [{'key': 'h2h', 'last_update': '2023-01-19T23:56:24Z', 'outcomes': [{'name': 'Charleston Cougars', 'price': 1.01}, {'name': 'Monmouth Hawks', 'price': 18.0}]}]}, {'key': 'bovada', 'title': 'Bovada', 'last_update': '2023-01-19T23:55:58Z', 'markets': [{'key': 'h2h', 'last_update': '2023-01-19T23:55:58Z', 'outcomes': [{'name': 'Charleston Cougars', 'price': 1.02}, {'name': 'Monmouth Hawks', 'price': 13.0}]}]}, {'key': 'superbook', 'title': 'SuperBook', 'last_update': '2023-01-19T23:55:59Z', 'markets': [{'key': 'h2h', 'last_update': '2023-01-19T23:55:59Z', 'outcomes': [{'name': 'Charleston Cougars', 'price': 1.02}, {'name': 'Monmouth Hawks', 'price': 16.0}]}]}, {'key': 'barstool', 'title': 'Barstool Sportsbook', 'last_update': '2023-01-19T23:56:17Z', 'markets': [{'key': 'h2h', 'last_update': '2023-01-19T23:56:17Z', 'outcomes': [{'name': 'Charleston Cougars', 'price': 1.01}, {'name': 'Monmouth Hawks', 'price': 20.0}]}]}, {'key': 'betrivers', 'title': 'BetRivers', 'last_update': '2023-01-19T23:55:59Z', 'markets': [{'key': 'h2h', 'last_update': '2023-01-19T23:55:59Z', 'outcomes': [{'name': 'Charleston Cougars', 'price': 1.01}, {'name': 'Monmouth Hawks', 'price': 20.0}]}]}, {'key': 'mybookieag', 'title': 'MyBookie.ag', 'last_update': '2023-01-19T23:56:17Z', 'markets': [{'key': 'h2h', 'last_update': '2023-01-19T23:56:17Z', 'outcomes': [{'name': 'Charleston Cougars', 'price': 1.03}, {'name': 'Monmouth Hawks', 'price': 12.15}]}]}]}]\n"
          ]
        }
      ],
      "source": [
        "# odds_response\n",
        "print(odds_response)"
      ]
    },
    {
      "cell_type": "markdown",
      "id": "795b37df",
      "metadata": {
        "id": "795b37df"
      },
      "source": [
        "### Event Class\n",
        "- Each ``Event`` object represents an indivudal sporting event\n",
        "- The ``data`` parameter contains all of the odds data that is received from the API call"
      ]
    },
    {
      "cell_type": "code",
      "execution_count": null,
      "id": "bccd45dc",
      "metadata": {
        "id": "bccd45dc"
      },
      "outputs": [],
      "source": [
        "BOOKMAKER_INDEX = 0\n",
        "NAME_INDEX = 1\n",
        "ODDS_INDEX = 2\n",
        "FIRST = 0\n",
        "\n",
        "class Event:\n",
        "    def __init__(self, data):\n",
        "        self.data = data\n",
        "        self.sport_key = data['sport_key']\n",
        "        self.id = data['id']\n",
        "        \n",
        "    def find_best_odds(self):\n",
        "        # number of possible outcomes for a sporting event\n",
        "        num_outcomes = len(self.data['bookmakers'][FIRST]['markets'][FIRST]['outcomes'])\n",
        "        self.num_outcomes = num_outcomes\n",
        "\n",
        "        # finding the best odds for each outcome in each event\n",
        "        best_odds = [[None, None, float('-inf')] for _ in range(num_outcomes)]\n",
        "        # [Bookmaker, Name, Price]\n",
        "\n",
        "        bookmakers = event.data['bookmakers']\n",
        "        for index, bookmaker in enumerate(bookmakers):\n",
        "\n",
        "            # determing the odds offered by each bookmaker\n",
        "            for outcome in range(num_outcomes):\n",
        "\n",
        "                # determining if any of the bookmaker odds are better than the current best odds\n",
        "                bookmaker_odds = float(bookmaker['markets'][FIRST]['outcomes'][outcome]['price'])\n",
        "                current_best_odds = best_odds[outcome][ODDS_INDEX]\n",
        "\n",
        "                if bookmaker_odds > current_best_odds:\n",
        "                    best_odds[outcome][BOOKMAKER_INDEX] = bookmaker['title']\n",
        "                    best_odds[outcome][NAME_INDEX] = bookmaker['markets'][FIRST]['outcomes'][outcome]['name']\n",
        "                    best_odds[outcome][ODDS_INDEX] = bookmaker_odds\n",
        "                    \n",
        "        self.best_odds = best_odds\n",
        "        return best_odds\n",
        "    \n",
        "    def arbitrage(self):\n",
        "        total_arbitrage_percentage = 0\n",
        "        for odds in self.best_odds:\n",
        "            total_arbitrage_percentage += (1.0 / odds[ODDS_INDEX])\n",
        "            \n",
        "        self.total_arbitrage_percentage = total_arbitrage_percentage\n",
        "        self.expected_earnings = (BET_SIZE / total_arbitrage_percentage) - BET_SIZE\n",
        "        \n",
        "        # if the sum of the reciprocals of the odds is less than 1, there is opportunity for arbitrage\n",
        "        if total_arbitrage_percentage < 1:\n",
        "            return True\n",
        "        return False\n",
        "    \n",
        "    # converts decimal/European best odds to American best odds\n",
        "    def convert_decimal_to_american(self):\n",
        "        best_odds = self.best_odds\n",
        "        for odds in best_odds:\n",
        "            decimal = odds[ODDS_INDEX]\n",
        "            if decimal >= 2:\n",
        "                american = (decimal - 1) * 100\n",
        "            elif decimal < 2:\n",
        "                american = -100 / (decimal - 1)\n",
        "            odds[ODDS_INDEX] = round(american, 2)\n",
        "        return best_odds\n",
        "     \n",
        "    def calculate_arbitrage_bets(self):\n",
        "        bet_amounts = []\n",
        "        for outcome in range(self.num_outcomes):\n",
        "            individual_arbitrage_percentage = 1 / self.best_odds[outcome][ODDS_INDEX]\n",
        "            bet_amount = (BET_SIZE * individual_arbitrage_percentage) / self.total_arbitrage_percentage\n",
        "            bet_amounts.append(round(bet_amount, 2))\n",
        "        \n",
        "        self.bet_amounts = bet_amounts\n",
        "        return bet_amounts"
      ]
    },
    {
      "cell_type": "markdown",
      "id": "0737847a",
      "metadata": {
        "id": "0737847a"
      },
      "source": [
        "### Parsing Events and Calculating Arbitrage Bets\n",
        "- `BET_SIZE` is the amount of money in USD that you would like to bet across the outcomes of an event.\n",
        "- This calculation will used unbiased arbitrage, where the profit is the same regardless of the outcome."
      ]
    },
    {
      "cell_type": "code",
      "execution_count": null,
      "id": "9d71f761",
      "metadata": {
        "id": "9d71f761"
      },
      "outputs": [],
      "source": [
        "events = []\n",
        "for data in odds_response:\n",
        "    events.append(Event(data))\n",
        "    # print(data)\n",
        "    # print()\n",
        "    \n",
        "arbitrage_events = []\n",
        "for event in events:\n",
        "    best_odds = event.find_best_odds()\n",
        "    if event.arbitrage():\n",
        "        arbitrage_events.append(event)\n",
        "        \n",
        "for event in arbitrage_events:\n",
        "    event.calculate_arbitrage_bets()\n",
        "    event.convert_decimal_to_american()"
      ]
    },
    {
      "cell_type": "markdown",
      "id": "4cf86515",
      "metadata": {
        "id": "4cf86515"
      },
      "source": [
        "### Creating Dataframe and Writing to Excel File"
      ]
    },
    {
      "cell_type": "code",
      "execution_count": null,
      "id": "bdc8da60",
      "metadata": {
        "id": "bdc8da60"
      },
      "outputs": [],
      "source": [
        "MAX_OUTCOMES = max([event.num_outcomes for event in arbitrage_events])\n",
        "ARBITRAGE_EVENTS_COUNT = len(arbitrage_events)\n",
        "\n",
        "my_columns = ['ID', 'Sport Key', 'Expected Earnings'] + list(np.array([[f'Bookmaker #{outcome}', f'Name #{outcome}', f'Odds #{outcome}', f'Amount to Buy #{outcome}'] for outcome in range(1, MAX_OUTCOMES + 1)]).flatten())\n",
        "dataframe = pd.DataFrame(columns=my_columns)"
      ]
    },
    {
      "cell_type": "code",
      "execution_count": null,
      "id": "1976164f",
      "metadata": {
        "id": "1976164f"
      },
      "outputs": [],
      "source": [
        "for event in arbitrage_events:\n",
        "    # print(event.best_odds)\n",
        "    row = []\n",
        "    row.append(event.id)\n",
        "    row.append(event.sport_key)\n",
        "    row.append(round(event.expected_earnings, 2))\n",
        "    for index, outcome in enumerate(event.best_odds):\n",
        "        row.append(outcome[BOOKMAKER_INDEX])\n",
        "        row.append(outcome[NAME_INDEX])\n",
        "        row.append(outcome[ODDS_INDEX])\n",
        "        row.append(event.bet_amounts[index])\n",
        "    while len(row) < len(dataframe.columns):\n",
        "        row.append('N/A')\n",
        "    dataframe.loc[len(dataframe.index)] = row"
      ]
    },
    {
      "cell_type": "code",
      "execution_count": null,
      "id": "9aacaf0d",
      "metadata": {
        "id": "9aacaf0d"
      },
      "outputs": [],
      "source": [
        "writer = pd.ExcelWriter('bets.xlsx')\n",
        "dataframe.to_excel(writer, index=False)\n",
        "writer.save()"
      ]
    },
    {
      "cell_type": "markdown",
      "id": "84aa0611",
      "metadata": {
        "id": "84aa0611"
      },
      "source": [
        "### Formatting the Excel File"
      ]
    },
    {
      "cell_type": "code",
      "execution_count": null,
      "id": "917c28ca",
      "metadata": {
        "id": "917c28ca"
      },
      "outputs": [],
      "source": [
        "BLACK = '000000'\n",
        "LIGHT_GREY = 'D6D6D6'\n",
        "DARK_GREY = '9F9F9F'\n",
        "RED = 'FEA0A0'\n",
        "BLUE = 'A0CEFE'\n",
        "YELLOW = 'FFE540'\n",
        "\n",
        "COLORS = [RED, BLUE]\n",
        "\n",
        "ID_COLUMN_FILL = PatternFill(fill_type='solid', start_color=DARK_GREY, end_color=DARK_GREY)\n",
        "SPORT_KEY_COLUMN_FILL = PatternFill(fill_type='solid', start_color=LIGHT_GREY, end_color=LIGHT_GREY)\n",
        "EXPECTED_EARNINGS_COLUMN_FILL = PatternFill(fill_type='solid', start_color=YELLOW, end_color=YELLOW)\n",
        "\n",
        "CENTER_ALIGNMENT = Alignment(horizontal='center', vertical='bottom', indent=0)\n",
        "\n",
        "TOP_ROW_BORDER = Border(bottom=Side(border_style='thick', color=BLACK))\n",
        "NORMAL_ROW_BORDER = Border(top=Side(border_style='thin', color=LIGHT_GREY), bottom=Side(border_style='thin', color=DARK_GREY))\n",
        "\n",
        "wb = load_workbook('bets.xlsx')\n",
        "ws = wb.active\n",
        "ws.title = 'Upcoming'\n",
        "# changing width\n",
        "for col in range(1, 26):\n",
        "    ws.column_dimensions[chr(col + 64)].width = 20\n",
        "\n",
        "for cell in ws['A']:\n",
        "    cell.fill = ID_COLUMN_FILL\n",
        "    cell.alignment = CENTER_ALIGNMENT\n",
        "    \n",
        "for cell in ws['B']:\n",
        "    cell.fill = SPORT_KEY_COLUMN_FILL\n",
        "    cell.alignment = CENTER_ALIGNMENT\n",
        "    \n",
        "for cell in ws['C']:\n",
        "    cell.fill = EXPECTED_EARNINGS_COLUMN_FILL\n",
        "    cell.alignment = CENTER_ALIGNMENT\n",
        "    cell.number_format = numbers.BUILTIN_FORMATS[7]\n",
        "\n",
        "START_INDEX = 'D'\n",
        "for index in range(MAX_OUTCOMES):\n",
        "    for col in ws[START_INDEX : chr(ord(START_INDEX) + 3)]:\n",
        "        for cell in col:\n",
        "            color = COLORS[int(index % 2)]\n",
        "            cell.fill = PatternFill(fill_type='solid', start_color=color, end_color=color)\n",
        "            cell.alignment = CENTER_ALIGNMENT\n",
        "            if cell.column % 4 == 3:\n",
        "                cell.number_format = numbers.BUILTIN_FORMATS[7]\n",
        "            \n",
        "    START_INDEX = chr(ord(START_INDEX) + 4)\n",
        "\n",
        "for cell in ws['1']:\n",
        "    cell.border = TOP_ROW_BORDER\n",
        "\n",
        "for row in range(2, ARBITRAGE_EVENTS_COUNT + 2):\n",
        "    for cell in ws[str(row)]:\n",
        "        cell.border = NORMAL_ROW_BORDER\n",
        "    \n",
        "wb.save('upcoming_events_bets.xlsx')"
      ]
    },
    {
      "cell_type": "code",
      "execution_count": null,
      "id": "06858b4a",
      "metadata": {
        "id": "06858b4a"
      },
      "outputs": [],
      "source": []
    }
  ],
  "metadata": {
    "kernelspec": {
      "display_name": "Python 3 (ipykernel)",
      "language": "python",
      "name": "python3"
    },
    "language_info": {
      "codemirror_mode": {
        "name": "ipython",
        "version": 3
      },
      "file_extension": ".py",
      "mimetype": "text/x-python",
      "name": "python",
      "nbconvert_exporter": "python",
      "pygments_lexer": "ipython3",
      "version": "3.9.7"
    },
    "colab": {
      "provenance": []
    }
  },
  "nbformat": 4,
  "nbformat_minor": 5
}